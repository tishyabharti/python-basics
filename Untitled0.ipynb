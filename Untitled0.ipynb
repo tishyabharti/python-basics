{
  "nbformat": 4,
  "nbformat_minor": 0,
  "metadata": {
    "colab": {
      "provenance": []
    },
    "kernelspec": {
      "name": "python3",
      "display_name": "Python 3"
    },
    "language_info": {
      "name": "python"
    }
  },
  "cells": [
    {
      "cell_type": "code",
      "execution_count": null,
      "metadata": {
        "id": "oPN1QD3C1fua"
      },
      "outputs": [],
      "source": []
    },
    {
      "cell_type": "markdown",
      "source": [],
      "metadata": {
        "id": "6FUulxfS9iTP"
      }
    },
    {
      "cell_type": "markdown",
      "source": [
        "#PYTHON BASICS\n",
        "\n",
        "1. what is python ,and why is it popular?\n",
        "   - Python is a high-level, interpreted programming language that is known for its simplicity and readability.\n",
        "   -Python is an open-source language and has a large, active community that contributes to its development and growth.\n",
        "   \n",
        "    It is important beacause of the following resons -\n",
        "    - Python is used in a wide variety of domains like web development , data science , data analytics , machine learning etc.\n",
        "    - Python has a vast and active community that contributes to open-source libraries, tools, and frameworks.\n",
        "    - Python can easily integrate with other languages like C, C++, and Java.\n",
        "\n",
        "2. what is an interpreter in python ?\n",
        "   - an interpreter is a program that reads and executes Python code line by line.  An interpreter processes the code directly, translating each statement one at a time into a form that the computer can understand and execute.\n",
        "3. What are pre-defined keywords in python\n",
        "   - pre defined keywords are words that have special meanings and are used to define the structure and syntax of the language.\n",
        "   eg - false, true, if, elif etc.\n",
        "4. Can keywords be used as variable names ?\n",
        " - We cannot use a keyword as a variable name, function name, or any other identifier. They are used to define the syntax and structure of the Python language.\n",
        "5. What is mutability in python ?\n",
        " - the process in which object /container whose state or value can be changed after ther are created are called as mutability eg- list is a mutable object\n",
        "6. Why are lists mutable but tuples are immutable ?\n",
        " - Lists are mutable because they are intended for collections that might change over time. They support operations like appending, removing, and modifying elements.\n",
        " - Tuples are immutable because they are designed for fixed collections of data that should not change. Their immutability makes them safer for storing constant values, more memory-efficient, and hashable for use as dictionary keys.\n",
        "7. What is the difference between \"==\" ans \"is\" operators in python ?\n",
        " - In Python, the \"==\" and \"is\" operators are both used for comparison, but they serve different purposes.\n",
        " - \"==\" checks if the values of two objects are equal.\n",
        "     eg a = [1, 2, 3]\n",
        "        b = [1, 2, 3]\n",
        "        print(a == b)                                                          # Output: true\n",
        " - \"is\" checks if two objects refer to the same object in memory i.e., they have the same identity.\n",
        "     eg   a = [1, 2, 3]\n",
        "b = [1, 2, 3]\n",
        "print(a is b)  # Output: False   \n",
        "8. What are logical operaters in python?\n",
        "   - Logical operators in Python are used to combine conditional statements. like- #and #or #not.\n",
        "9. what is type casting in python?\n",
        "  - Type casting in Python refers to the process of converting one data type into another.  \n",
        " - here integer can be coverted into a string and viceversa.\n",
        " - there are two types of type casting - implicit and explicit\n",
        "   \n",
        "10. what is the difference between implicit and explicit type casting?\n",
        " - implicit type casting-\n",
        " - This happens automatically when Python converts one data type to another without any explicit instruction from the programmer.\n",
        " - explicit type casting\n",
        "  - This happens when you manually convert a variable from one type to another using type-casting functions  \n",
        "11. what is the pupose of conditional statements in python?\n",
        " - Conditional statements in Python are used to perform different actions based on whether a specific condition is true or false like-\n",
        " - Decision Making: They allow programs to make decisions based on specific conditions, such as whether a user is logged in or if a certain condition is met.\n",
        " - Flow Control: They control the flow of the program based on the truth value of conditions, making the program more flexible and dynamic.\n",
        "  - Handling Different Scenarios: we can use conditional statements to handle different scenarios, inputs, or data states, such as verifying user input, checking ranges, or responding to errors.\n",
        "12. how does the elif statement works?\n",
        "- the elif statement in Python is used when you need to check multiple conditions in a series. It's part of the if-elif-else structure, which allows you to test several conditions in sequence and execute different blocks of code depending on which condition is True.\n",
        " - The if statement checks the first condition.\n",
        "If the condition is True, the corresponding block of code is executed, and the rest of the elif and else blocks are skipped.\n",
        "If the if condition is False, Python checks the elif conditions one by one.\n",
        "As soon as it finds an elif condition that is True, the associated block of code is executed, and the remaining conditions are not checked.\n",
        "If none of the if or elif conditions are True, the else block (if present) is executed.\n",
        "13.  What is the difference between for and while loops?\n",
        " - #FOR LOOP - Typically used when the number of iterations is known beforehand or when you want to iterate over a sequence\n",
        "  - The loop structure generally includes initialization, condition checking, and an increment/decrement operation, all in one place.\n",
        "   - #WHILE LOOP- Typically used when the number of iterations is not known in advance and depends on a condition that might change during each iteration\n",
        "    - The loop continues to execute as long as the condition provided is True. The condition is checked before each iteration\n",
        "14.  Describe a scenario where a while loop is more suitable than a for loop\n",
        " - A while loop is more suitable than a for loop in scenarios where the number of iterations is not known beforehand, and the loop needs to run until a certain condition is met or a specific event occurs\n",
        "\n",
        "\n",
        "\n",
        " **PRACTICAL QUESTIONS**\n",
        "\n",
        "\n",
        "\n",
        "\n",
        "\n",
        "\n",
        "\n",
        "\n",
        "\n",
        "\n",
        "\n",
        "\n",
        "\n",
        "\n",
        "\n",
        "\n",
        "\n",
        "\n",
        "\n",
        "\n",
        "\n"
      ],
      "metadata": {
        "id": "HDpuaKN41im7"
      }
    },
    {
      "cell_type": "markdown",
      "source": [
        "1. Write a Python program to print \"Hello, World!\n"
      ],
      "metadata": {
        "id": "Pf9qj8EvzScB"
      }
    },
    {
      "cell_type": "code",
      "source": [
        "print(\"Hello, World\")"
      ],
      "metadata": {
        "colab": {
          "base_uri": "https://localhost:8080/"
        },
        "id": "gx5DhivOzc6J",
        "outputId": "e065226c-ae73-4e73-d7ed-2ca45992d77e"
      },
      "execution_count": 3,
      "outputs": [
        {
          "output_type": "stream",
          "name": "stdout",
          "text": [
            "Hello, World\n"
          ]
        }
      ]
    },
    {
      "cell_type": "markdown",
      "source": [
        "2. Write a Python program that displays your name and age"
      ],
      "metadata": {
        "id": "w7FRVQvcz1e_"
      }
    },
    {
      "cell_type": "code",
      "source": [
        "name = \"tishya bharti\"\n",
        "age = \"25\"\n",
        "print (\"name:\", name)\n",
        "print (\"age:\" , age)"
      ],
      "metadata": {
        "colab": {
          "base_uri": "https://localhost:8080/"
        },
        "id": "mDQ_d5yrz0Hc",
        "outputId": "b4dfd5c8-83dc-49d5-8897-99c38448687e"
      },
      "execution_count": 7,
      "outputs": [
        {
          "output_type": "stream",
          "name": "stdout",
          "text": [
            "name: tishya bharti\n",
            "age: 25\n"
          ]
        }
      ]
    },
    {
      "cell_type": "markdown",
      "source": [
        "3. Write code to print all the pre-defined keywords in Python using the keyword library.\n"
      ],
      "metadata": {
        "id": "AOsNVxsW1Cg_"
      }
    },
    {
      "cell_type": "code",
      "source": [
        "import keyword\n",
        "\n",
        "\n",
        "print(keyword.kwlist)\n"
      ],
      "metadata": {
        "colab": {
          "base_uri": "https://localhost:8080/"
        },
        "id": "HbSCUcwI2dNo",
        "outputId": "033d7256-b42a-46b8-c29f-8d32a9ab979e"
      },
      "execution_count": 12,
      "outputs": [
        {
          "output_type": "stream",
          "name": "stdout",
          "text": [
            "['False', 'None', 'True', 'and', 'as', 'assert', 'async', 'await', 'break', 'class', 'continue', 'def', 'del', 'elif', 'else', 'except', 'finally', 'for', 'from', 'global', 'if', 'import', 'in', 'is', 'lambda', 'nonlocal', 'not', 'or', 'pass', 'raise', 'return', 'try', 'while', 'with', 'yield']\n"
          ]
        }
      ]
    },
    {
      "cell_type": "markdown",
      "source": [
        "4. Write a program that checks if a given word is a Python keyword"
      ],
      "metadata": {
        "id": "FiYHhXWj3BVU"
      }
    },
    {
      "cell_type": "code",
      "source": [
        "import keyword\n",
        "\n",
        "\n",
        "word = input(\"Enter a word to check if it's a Python keyword: \")\n",
        "\n",
        "if keyword.iskeyword(word):\n",
        "    print(f\"'{word}' is a Python keyword.\")\n",
        "else:\n",
        "    print(f\"'{word}' is not a Python keyword.\")\n"
      ],
      "metadata": {
        "colab": {
          "base_uri": "https://localhost:8080/"
        },
        "id": "DVW0BbV424dM",
        "outputId": "8f758988-f6a6-415e-89e2-944c9a0da6c2"
      },
      "execution_count": 13,
      "outputs": [
        {
          "output_type": "stream",
          "name": "stdout",
          "text": [
            "Enter a word to check if it's a Python keyword: continue\n",
            "'continue' is a Python keyword.\n"
          ]
        }
      ]
    },
    {
      "cell_type": "code",
      "source": [],
      "metadata": {
        "id": "X8UxE0sR3kMm"
      },
      "execution_count": 13,
      "outputs": []
    },
    {
      "cell_type": "markdown",
      "source": [
        "5. Create a list and tuple in Python, and demonstrate how attempting to change an element works differently\n",
        "for each\n"
      ],
      "metadata": {
        "id": "ImA0z3673zg8"
      }
    },
    {
      "cell_type": "code",
      "source": [
        "\n",
        "my_list = [10, 20, 30, 40]\n",
        "my_tuple = (10, 20, 30, 40)\n",
        "\n",
        "print(\"Original list:\", my_list)\n",
        "my_list[1] = 50\n",
        "print(\"Updated list:\", my_list)\n",
        "\n",
        "\n",
        "print(\"\\nOriginal tuple:\", my_tuple)\n",
        "try:\n",
        "    my_tuple[1] = 50\n",
        "except TypeError as e:\n",
        "    print(\"Error:\", e)\n"
      ],
      "metadata": {
        "colab": {
          "base_uri": "https://localhost:8080/"
        },
        "id": "2A-nOYWe4FTt",
        "outputId": "03c79f46-ba7e-45db-c864-78b1c8912fe9"
      },
      "execution_count": 14,
      "outputs": [
        {
          "output_type": "stream",
          "name": "stdout",
          "text": [
            "Original list: [10, 20, 30, 40]\n",
            "Updated list: [10, 50, 30, 40]\n",
            "\n",
            "Original tuple: (10, 20, 30, 40)\n",
            "Error: 'tuple' object does not support item assignment\n"
          ]
        }
      ]
    },
    {
      "cell_type": "code",
      "source": [],
      "metadata": {
        "id": "RIeimWJp4RU-"
      },
      "execution_count": null,
      "outputs": []
    },
    {
      "cell_type": "markdown",
      "source": [
        "6.  Write a function to demonstrate the behavior of mutable and immutable arguments.\n"
      ],
      "metadata": {
        "id": "Xb2ExpCQ4Y2A"
      }
    },
    {
      "cell_type": "code",
      "source": [
        "\n",
        "#mutable argument\n",
        "'''\n",
        "In python the term mutability refers to \"the ability to modify and change its value\n",
        "even after it is created.\"\n",
        "'''\n",
        "list_count = [10 , 20 , 33.5 , \"tishya\"]\n",
        "print(\"This is the original list\", list_count)\n",
        "#we can change multiple values in the list.\n",
        "list_count[0] = 99\n",
        "list_count[3] = \"MASIH\"\n",
        "print(\"This is the changed list\", list_count)\n",
        "print(\" \")\n",
        "#immutable argument\n",
        "'''\n",
        "In python the immutable are of built-in data type and it cannot be modified after it is created.\n",
        "'''\n",
        "print(\"-----------------------------------------------------------------\")\n",
        "print(\"tuple1 = (0, 11, 20, 55     ignore these parts\")\n",
        "print(\"tuple1[0] = 4               i'm using print command so that \")\n",
        "print(\"tuple1                      code can be executed without error\")\n",
        "print(\"-----------------------------------------------------------------\")\n",
        "\n",
        "#it will show error because tuples can't be modified\n",
        "#so that's why i have used print command to prevent error\n",
        "#because they are immutable.\n",
        "print(\" \")\n",
        "\n",
        "#if you want to change a tuple you need to create a new one\n",
        "#example:-\n",
        "\n",
        "tuple1 = (0, 11, 20, 55)\n",
        "print(\"The old tuple is\", tuple1)\n",
        "new_tuple1 = (4,) + tuple1[1:]\n",
        "print(\"The new tuple is\", new_tuple1)"
      ],
      "metadata": {
        "colab": {
          "base_uri": "https://localhost:8080/"
        },
        "id": "Ut4q319T4pNh",
        "outputId": "35659a2f-7ec4-4d71-a3f5-a883aa706467"
      },
      "execution_count": 16,
      "outputs": [
        {
          "output_type": "stream",
          "name": "stdout",
          "text": [
            "This is the original list [10, 20, 33.5, 'tishya']\n",
            "This is the changed list [99, 20, 33.5, 'MASIH']\n",
            " \n",
            "-----------------------------------------------------------------\n",
            "tuple1 = (0, 11, 20, 55     ignore these parts\n",
            "tuple1[0] = 4               i'm using print command so that \n",
            "tuple1                      code can be executed without error\n",
            "-----------------------------------------------------------------\n",
            " \n",
            "The old tuple is (0, 11, 20, 55)\n",
            "The new tuple is (4, 11, 20, 55)\n"
          ]
        }
      ]
    },
    {
      "cell_type": "markdown",
      "source": [
        "7. Write a function to demonstrate the behavior of mutable and immutable argument\n"
      ],
      "metadata": {
        "id": "yx4HDXst7R_J"
      }
    },
    {
      "cell_type": "code",
      "source": [
        "#mutable argument\n",
        "'''\n",
        "In python the term mutability refers to \"the ability to modify and change its value\n",
        "even after it is created.\"\n",
        "'''\n",
        "list_count = [10 , 20 , 33.5 , \"tishya\"]\n",
        "print(\"This is the original list\", list_count)\n",
        "#we can change multiple values in the list.\n",
        "list_count[0] = 99\n",
        "list_count[3] = \"MASIH\"\n",
        "print(\"This is the changed list\", list_count)\n",
        "print(\" \")\n",
        "#immutable argument\n",
        "'''\n",
        "In python the immutable are of built-in data type and it cannot be modified after it is created.\n",
        "'''\n",
        "print(\"-----------------------------------------------------------------\")\n",
        "print(\"tuple1 = (0, 11, 20, 55     ignore these parts\")\n",
        "print(\"tuple1[0] = 4               i'm using print command so that \")\n",
        "print(\"tuple1                      code can be executed without error\")\n",
        "print(\"-----------------------------------------------------------------\")\n",
        "\n",
        "#it will show error because tuples can't be modified\n",
        "#so that's why i have used print command to prevent error\n",
        "#because they are immutable.\n",
        "print(\" \")\n",
        "\n",
        "#if you want to change a tuple you need to create a new one\n",
        "#example:-\n",
        "\n",
        "tuple1 = (0, 11, 20, 55)\n",
        "print(\"The old tuple is\", tuple1)\n",
        "new_tuple1 = (4,) + tuple1[1:]\n",
        "print(\"The new tuple is\", new_tuple1)"
      ],
      "metadata": {
        "colab": {
          "base_uri": "https://localhost:8080/"
        },
        "id": "hvwA9uIU8GkK",
        "outputId": "138b5f82-f442-48a8-f415-8a32965efa8a"
      },
      "execution_count": 17,
      "outputs": [
        {
          "output_type": "stream",
          "name": "stdout",
          "text": [
            "This is the original list [10, 20, 33.5, 'tishya']\n",
            "This is the changed list [99, 20, 33.5, 'MASIH']\n",
            " \n",
            "-----------------------------------------------------------------\n",
            "tuple1 = (0, 11, 20, 55     ignore these parts\n",
            "tuple1[0] = 4               i'm using print command so that \n",
            "tuple1                      code can be executed without error\n",
            "-----------------------------------------------------------------\n",
            " \n",
            "The old tuple is (0, 11, 20, 55)\n",
            "The new tuple is (4, 11, 20, 55)\n"
          ]
        }
      ]
    },
    {
      "cell_type": "code",
      "source": [],
      "metadata": {
        "id": "rJ-Z8w888OSu"
      },
      "execution_count": null,
      "outputs": []
    },
    {
      "cell_type": "markdown",
      "source": [
        "8. Write a program to demonstrate the use of logical operators"
      ],
      "metadata": {
        "id": "TnHZB_q88fd6"
      }
    },
    {
      "cell_type": "code",
      "source": [
        "\n",
        "\n",
        "\n",
        "x = 5\n",
        "y = 10\n",
        "z = 15\n",
        "\n",
        "# Using 'and' operator\n",
        "if x < y and y < z:\n",
        "    print(\"x is less than y and y is less than z (using 'and').\")\n",
        "\n",
        "# Using 'or' operator\n",
        "if x < y or x > z:\n",
        "    print(\"x is less than y or x is greater than z (using 'or').\")\n",
        "\n",
        "# Using 'not' operator\n",
        "if not x == y:\n",
        "    print(\"x is not equal to y (using 'not').\")\n",
        "\n",
        "# Combining logical operators\n",
        "if (x < y and y < z) or z == 15:\n",
        "    print(\"Combined condition with 'and' and 'or'.\")\n"
      ],
      "metadata": {
        "colab": {
          "base_uri": "https://localhost:8080/"
        },
        "id": "pT43JUh98iUo",
        "outputId": "f5d9a812-02a1-44c6-a63f-d963a9463ed8"
      },
      "execution_count": 18,
      "outputs": [
        {
          "output_type": "stream",
          "name": "stdout",
          "text": [
            "x is less than y and y is less than z (using 'and').\n",
            "x is less than y or x is greater than z (using 'or').\n",
            "x is not equal to y (using 'not').\n",
            "Combined condition with 'and' and 'or'.\n"
          ]
        }
      ]
    },
    {
      "cell_type": "code",
      "source": [],
      "metadata": {
        "id": "0ypRwCZv80YP"
      },
      "execution_count": null,
      "outputs": []
    },
    {
      "cell_type": "markdown",
      "source": [
        "9. Write a Python program to convert user input from string to integer, float, and boolean types"
      ],
      "metadata": {
        "id": "291US1iQ86AK"
      }
    },
    {
      "cell_type": "code",
      "source": [
        "# Get user input as a string\n",
        "user_input = input(\"3: \")\n",
        "\n",
        "# Convert to integer\n",
        "try:\n",
        "    int_value = int(user_input)\n",
        "    print(f\"Integer conversion: {int_value}\")\n",
        "except ValueError:\n",
        "    print(\"Invalid input for integer conversion.\")\n",
        "\n",
        "# Convert to float\n",
        "try:\n",
        "    float_value = float(user_input)\n",
        "    print(f\"Float conversion: {float_value}\")\n",
        "except ValueError:\n",
        "    print(\"Invalid input for float conversion.\")\n",
        "\n",
        "# Convert to boolean\n",
        "# In Python, a non-empty string is considered True, while an empty string is False\n",
        "bool_value = bool(user_input)\n",
        "print(f\"Boolean conversion: {bool_value}\")\n"
      ],
      "metadata": {
        "colab": {
          "base_uri": "https://localhost:8080/"
        },
        "id": "OajhGOFS8_10",
        "outputId": "9075beba-16aa-49f1-d423-72f8d8a400df"
      },
      "execution_count": 19,
      "outputs": [
        {
          "output_type": "stream",
          "name": "stdout",
          "text": [
            "3: '5.6'\n",
            "Invalid input for integer conversion.\n",
            "Invalid input for float conversion.\n",
            "Boolean conversion: True\n"
          ]
        }
      ]
    },
    {
      "cell_type": "code",
      "source": [],
      "metadata": {
        "id": "SIZf44HR9VfD"
      },
      "execution_count": 19,
      "outputs": []
    },
    {
      "cell_type": "markdown",
      "source": [
        "10. Write code to demonstrate type casting with list elements"
      ],
      "metadata": {
        "id": "q-yfLGFg9fJZ"
      }
    },
    {
      "cell_type": "code",
      "source": [
        "# Original list with different types of elements (strings)\n",
        "string_list = [\"1\", \"2\", \"3.5\", \"4.6\", \"True\", \"False\"]\n",
        "\n",
        "# Convert all elements to integers (only works if the string is a valid integer)\n",
        "int_list = []\n",
        "for item in string_list:\n",
        "    try:\n",
        "        int_list.append(int(float(item)))  # Convert to float first to handle decimal strings\n",
        "    except ValueError:\n",
        "        int_list.append(None)  # If conversion fails, append None\n",
        "\n",
        "# Convert all elements to floats\n",
        "float_list = []\n",
        "for item in string_list:\n",
        "    try:\n",
        "        float_list.append(float(item))\n",
        "    except ValueError:\n",
        "        float_list.append(None)\n",
        "\n",
        "# Convert all elements to booleans\n",
        "bool_list = []\n",
        "for item in string_list:\n",
        "    bool_list.append(bool(item))  # Any non-empty string becomes True\n",
        "\n",
        "# Print the results\n",
        "print(\"Original string list:\", string_list)\n",
        "print(\"Converted to integers:\", int_list)\n",
        "print(\"Converted to floats:\", float_list)\n",
        "print(\"Converted to booleans:\", bool_list)\n"
      ],
      "metadata": {
        "colab": {
          "base_uri": "https://localhost:8080/"
        },
        "id": "dPO_UeNk91RK",
        "outputId": "51948a78-43c8-4354-eb73-b3c1262a4f6e"
      },
      "execution_count": 20,
      "outputs": [
        {
          "output_type": "stream",
          "name": "stdout",
          "text": [
            "Original string list: ['1', '2', '3.5', '4.6', 'True', 'False']\n",
            "Converted to integers: [1, 2, 3, 4, None, None]\n",
            "Converted to floats: [1.0, 2.0, 3.5, 4.6, None, None]\n",
            "Converted to booleans: [True, True, True, True, True, True]\n"
          ]
        }
      ]
    },
    {
      "cell_type": "code",
      "source": [],
      "metadata": {
        "id": "GYfdSLed97J2"
      },
      "execution_count": null,
      "outputs": []
    },
    {
      "cell_type": "markdown",
      "source": [
        "11. Write a program that checks if a number is positive, negative, or zero."
      ],
      "metadata": {
        "id": "WdaGHq2M9_Wf"
      }
    },
    {
      "cell_type": "code",
      "source": [
        "# Function to check if the number is positive, negative, or zero\n",
        "num=\"3\"\n",
        "def check_number(num):\n",
        "    if num > 0:\n",
        "        return \"The number is positive.\"\n",
        "    elif num < 0:\n",
        "        return \"The number is negative.\"\n",
        "    else:\n",
        "        return \"The number is zero.\"\n",
        "\n"
      ],
      "metadata": {
        "id": "ldzIZJCG-Fiu"
      },
      "execution_count": 22,
      "outputs": []
    },
    {
      "cell_type": "code",
      "source": [],
      "metadata": {
        "id": "lAYAagcJ-VvO"
      },
      "execution_count": null,
      "outputs": []
    },
    {
      "cell_type": "markdown",
      "source": [
        "12. Write a for loop to print numbers from 1 to 10"
      ],
      "metadata": {
        "id": "gyKWiLkB-iCs"
      }
    },
    {
      "cell_type": "code",
      "source": [
        "# For loop to print numbers from 1 to 10\n",
        "for i in range(1, 11):\n",
        "    print(i)\n"
      ],
      "metadata": {
        "colab": {
          "base_uri": "https://localhost:8080/"
        },
        "id": "HxxO4oJX-rAj",
        "outputId": "b9ec9420-3c72-4119-bef2-d5eda7fb5ab3"
      },
      "execution_count": 23,
      "outputs": [
        {
          "output_type": "stream",
          "name": "stdout",
          "text": [
            "1\n",
            "2\n",
            "3\n",
            "4\n",
            "5\n",
            "6\n",
            "7\n",
            "8\n",
            "9\n",
            "10\n"
          ]
        }
      ]
    },
    {
      "cell_type": "code",
      "source": [],
      "metadata": {
        "id": "aPzUej5D-xLt"
      },
      "execution_count": null,
      "outputs": []
    },
    {
      "cell_type": "markdown",
      "source": [
        "13.  Write a Python program to find the sum of all even numbers between 1 and 50"
      ],
      "metadata": {
        "id": "sVUiquU0-1Oj"
      }
    },
    {
      "cell_type": "code",
      "source": [
        "# Initialize the sum variable\n",
        "sum_even_numbers = 0\n",
        "\n",
        "# Iterate through the numbers from 1 to 50\n",
        "for num in range(1, 51):\n",
        "    if num % 2 == 0:  # Check if the number is even\n",
        "        sum_even_numbers += num  # Add the even number to the sum\n",
        "\n",
        "# Print the result\n",
        "print(\"The sum of all even numbers between 1 and 50 is:\", sum_even_numbers)\n"
      ],
      "metadata": {
        "colab": {
          "base_uri": "https://localhost:8080/"
        },
        "id": "dFEVhnyi-8Re",
        "outputId": "8c4404c1-e5f2-4eaa-9d9c-9982e120ea54"
      },
      "execution_count": 24,
      "outputs": [
        {
          "output_type": "stream",
          "name": "stdout",
          "text": [
            "The sum of all even numbers between 1 and 50 is: 650\n"
          ]
        }
      ]
    },
    {
      "cell_type": "code",
      "source": [],
      "metadata": {
        "id": "Nzf2PUVz_Fko"
      },
      "execution_count": null,
      "outputs": []
    },
    {
      "cell_type": "markdown",
      "source": [
        "14. Write a program to reverse a string using a while loop\n"
      ],
      "metadata": {
        "id": "0oMGLqdw_Haz"
      }
    },
    {
      "cell_type": "code",
      "source": [
        "# Function to reverse a string using a while loop\n",
        "def reverse_string(input_string):\n",
        "    reversed_string = \"\"\n",
        "    index = len(input_string) - 1  # Start from the last character of the string\n",
        "\n",
        "    # Iterate through the string in reverse order using while loop\n",
        "    while index >= 0:\n",
        "        reversed_string += input_string[index]  # Add the current character to reversed string\n",
        "        index -= 1  # Move to the previous character\n",
        "\n",
        "    return reversed_string\n",
        "\n",
        "# Get user input\n",
        "user_input = input(\"Enter a string: \")\n",
        "\n",
        "# Call the function to reverse the string\n",
        "reversed_str = reverse_string(user_input)\n",
        "\n",
        "# Print the reversed string\n",
        "print(\"Reversed string:\", reversed_str)\n"
      ],
      "metadata": {
        "colab": {
          "base_uri": "https://localhost:8080/"
        },
        "id": "O9KXOfvD_NhJ",
        "outputId": "e832a84a-dc7c-461d-c87c-2d2d15c6714d"
      },
      "execution_count": 25,
      "outputs": [
        {
          "output_type": "stream",
          "name": "stdout",
          "text": [
            "Enter a string: sravini\n",
            "Reversed string: inivars\n"
          ]
        }
      ]
    },
    {
      "cell_type": "code",
      "source": [],
      "metadata": {
        "id": "VktibQZ4_XTB"
      },
      "execution_count": 25,
      "outputs": []
    },
    {
      "cell_type": "markdown",
      "source": [
        "15.  Write a Python program to calculate the factorial of a number provided by the user using a while loop."
      ],
      "metadata": {
        "id": "0jZEIKhT_f1L"
      }
    },
    {
      "cell_type": "code",
      "source": [
        "# Function to calculate the factorial of a number using a while loop\n",
        "def factorial(num):\n",
        "    result = 1\n",
        "    while num > 1:\n",
        "        result *= num\n",
        "        num -= 1\n",
        "    return result\n",
        "\n",
        "\n",
        "try:\n",
        "    number = int(input(\"Enter a number to calculate its factorial: \"))\n",
        "    if number < 0:\n",
        "        print(\"Factorial is not defined for negative numbers.\")\n",
        "    else:\n",
        "\n",
        "        fact = factorial(number)\n",
        "        print(f\"The factorial of {number} is: {fact}\")\n",
        "except ValueError:\n",
        "    print(\"Invalid input! Please enter a valid integer.\")\n"
      ],
      "metadata": {
        "colab": {
          "base_uri": "https://localhost:8080/"
        },
        "id": "fWYP3m7y_mpS",
        "outputId": "024d060c-b422-443c-f48e-f30cb80d7447"
      },
      "execution_count": 26,
      "outputs": [
        {
          "output_type": "stream",
          "name": "stdout",
          "text": [
            "Enter a number to calculate its factorial: 53647\n",
            "Invalid input! Please enter a valid integer.\n"
          ]
        }
      ]
    },
    {
      "cell_type": "code",
      "source": [],
      "metadata": {
        "id": "5TiLbJt2_9ku"
      },
      "execution_count": 26,
      "outputs": []
    }
  ]
}